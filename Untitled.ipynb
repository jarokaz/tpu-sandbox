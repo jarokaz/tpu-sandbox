{
 "cells": [
  {
   "cell_type": "code",
   "execution_count": 4,
   "id": "770beb3f",
   "metadata": {},
   "outputs": [
    {
     "name": "stderr",
     "output_type": "stream",
     "text": [
      "2021-09-09 00:31:01.666465: W tensorflow/stream_executor/platform/default/dso_loader.cc:64] Could not load dynamic library 'libcudart.so.11.0'; dlerror: libcudart.so.11.0: cannot open shared object file: No such file or directory\n",
      "2021-09-09 00:31:01.666522: I tensorflow/stream_executor/cuda/cudart_stub.cc:29] Ignore above cudart dlerror if you do not have a GPU set up on your machine.\n"
     ]
    }
   ],
   "source": [
    "from absl import app, flags, logging\n",
    "import tensorflow as tf\n",
    "import tensorflow_hub as hub\n",
    "import tensorflow_text as text\n",
    "\n",
    "from typing import Any, Callable, Dict, List, Optional\n",
    "import os"
   ]
  },
  {
   "cell_type": "code",
   "execution_count": 5,
   "id": "8367ad4b",
   "metadata": {},
   "outputs": [
    {
     "name": "stderr",
     "output_type": "stream",
     "text": [
      "2021-09-09 00:31:03.576178: W tensorflow/stream_executor/platform/default/dso_loader.cc:64] Could not load dynamic library 'libcuda.so.1'; dlerror: libcuda.so.1: cannot open shared object file: No such file or directory\n",
      "2021-09-09 00:31:03.576233: W tensorflow/stream_executor/cuda/cuda_driver.cc:326] failed call to cuInit: UNKNOWN ERROR (303)\n",
      "2021-09-09 00:31:03.576262: I tensorflow/stream_executor/cuda/cuda_diagnostics.cc:156] kernel driver does not appear to be running on this host (jk-tpu-node-1): /proc/driver/nvidia/version does not exist\n",
      "2021-09-09 00:31:03.576757: I tensorflow/core/platform/cpu_feature_guard.cc:142] This TensorFlow binary is optimized with oneAPI Deep Neural Network Library (oneDNN) to use the following CPU instructions in performance-critical operations:  AVX2 FMA\n",
      "To enable them in other operations, rebuild TensorFlow with the appropriate compiler flags.\n"
     ]
    }
   ],
   "source": [
    "tx = tf.constant(['abc def','xyz abc apple', 'abc xyz', 'appel pen'], dtype=tf.string)\n",
    "ty = tf.constant([1, 1, 0, 0], dtype=tf.int64)\n",
    "vx = tf.constant(['apple peer','abc apple', 'xyz', 'vvvv'], dtype=tf.string)\n",
    "vy = tf.constant([1, 0, 0, 1], dtype=tf.int64)"
   ]
  },
  {
   "cell_type": "code",
   "execution_count": 8,
   "id": "f4daf8b8",
   "metadata": {},
   "outputs": [],
   "source": [
    "PREPROCESS_URI = 'gs://tfhub-modules/tensorflow/bert_en_cased_preprocess/3/uncompressed'\n",
    "\n",
    "def create_bert_preprocess_model(seq_length=128):\n",
    "\n",
    "  text_input = tf.keras.layers.Input(shape=(), dtype=tf.string, name='text_input')\n",
    "\n",
    "  bert_preprocess = hub.load(PREPROCESS_URI)\n",
    "  tokenizer = hub.KerasLayer(bert_preprocess.tokenize, name='tokenizer')\n",
    "  packer = hub.KerasLayer(bert_preprocess.bert_pack_inputs,\n",
    "                          arguments=dict(seq_length=seq_length),\n",
    "                          name='packer')                                  \n",
    "                                     \n",
    "  tokenized_inputs = [tokenizer(segment) for segment in [text_input]]\n",
    "  model_inputs = packer(tokenized_inputs)\n",
    "                                     \n",
    "  return tf.keras.Model(text_input, model_inputs)"
   ]
  },
  {
   "cell_type": "code",
   "execution_count": 9,
   "id": "7fad20e9",
   "metadata": {},
   "outputs": [],
   "source": [
    "preprocessor = create_bert_preprocess_model()"
   ]
  },
  {
   "cell_type": "code",
   "execution_count": null,
   "id": "45f73f3d",
   "metadata": {},
   "outputs": [],
   "source": [
    "for element in train_ds:\n",
    "    print(element)"
   ]
  },
  {
   "cell_type": "code",
   "execution_count": 17,
   "id": "d58604f1",
   "metadata": {},
   "outputs": [],
   "source": [
    "MODEL_URI = 'gs://tfhub-modules/tensorflow/bert_en_cased_L-24_H-1024_A-16/3/uncompressed'\n",
    "\n",
    "\n",
    "def get_bert_model(seq_len=128):\n",
    "    \n",
    "    bert_layer = hub.KerasLayer(\n",
    "        handle=MODEL_URI, \n",
    "        trainable=True,\n",
    "        name='encoder'\n",
    "    )\n",
    "    encoder_inputs = dict(\n",
    "        input_word_ids = tf.keras.layers.Input(shape=(seq_len,), dtype=tf.int32, name=\"input_word_ids\"),\n",
    "        input_mask = tf.keras.layers.Input(shape=(seq_len,), dtype=tf.int32, name=\"input_mask\"),\n",
    "        input_type_ids = tf.keras.layers.Input(shape=(seq_len,), dtype=tf.int32, name=\"segment_ids\"),\n",
    "    )\n",
    "    encoder_outputs = bert_layer(encoder_inputs)\n",
    "    embedding = encoder_outputs[\"pooled_output\"]\n",
    "    logits = tf.keras.layers.Dense(1)(embedding)\n",
    "    softmax_prob = tf.keras.layers.Softmax()(logits)\n",
    "    model = tf.keras.models.Model(inputs=encoder_inputs,\n",
    "                                  outputs=softmax_prob)\n",
    "    \n",
    "    return model\n"
   ]
  },
  {
   "cell_type": "code",
   "execution_count": 18,
   "id": "a192923a",
   "metadata": {},
   "outputs": [],
   "source": [
    "def create_dataset(inputs, labels, batch_size, preprocessor):\n",
    "  dataset = tf.data.Dataset.from_tensor_slices((inputs, labels))\n",
    "  dataset = dataset.batch(batch_size)\n",
    "  dataset = dataset.map(lambda x, y: (preprocessor(x), y))\n",
    "  return dataset"
   ]
  },
  {
   "cell_type": "code",
   "execution_count": 19,
   "id": "7911239b",
   "metadata": {},
   "outputs": [],
   "source": [
    "train_ds = create_dataset(tx, ty, 2, preprocessor)\n",
    "valid_ds = create_dataset(vx, vy, 2, preprocessor)"
   ]
  },
  {
   "cell_type": "code",
   "execution_count": 20,
   "id": "e40c16cc",
   "metadata": {},
   "outputs": [],
   "source": [
    "model = get_bert_model()"
   ]
  },
  {
   "cell_type": "code",
   "execution_count": 21,
   "id": "fc3ca33b",
   "metadata": {},
   "outputs": [
    {
     "name": "stdout",
     "output_type": "stream",
     "text": [
      "Model: \"model_1\"\n",
      "__________________________________________________________________________________________________\n",
      "Layer (type)                    Output Shape         Param #     Connected to                     \n",
      "==================================================================================================\n",
      "input_mask (InputLayer)         [(None, 128)]        0                                            \n",
      "__________________________________________________________________________________________________\n",
      "segment_ids (InputLayer)        [(None, 128)]        0                                            \n",
      "__________________________________________________________________________________________________\n",
      "input_word_ids (InputLayer)     [(None, 128)]        0                                            \n",
      "__________________________________________________________________________________________________\n",
      "encoder (KerasLayer)            {'encoder_outputs':  333579265   input_mask[0][0]                 \n",
      "                                                                 segment_ids[0][0]                \n",
      "                                                                 input_word_ids[0][0]             \n",
      "__________________________________________________________________________________________________\n",
      "dense (Dense)                   (None, 1)            1025        encoder[0][25]                   \n",
      "__________________________________________________________________________________________________\n",
      "softmax (Softmax)               (None, 1)            0           dense[0][0]                      \n",
      "==================================================================================================\n",
      "Total params: 333,580,290\n",
      "Trainable params: 333,580,289\n",
      "Non-trainable params: 1\n",
      "__________________________________________________________________________________________________\n"
     ]
    }
   ],
   "source": [
    "model.summary()"
   ]
  },
  {
   "cell_type": "code",
   "execution_count": 22,
   "id": "c9f39a0e",
   "metadata": {},
   "outputs": [],
   "source": [
    "optimizer = tf.keras.optimizers.Adam()\n",
    "model.compile(optimizer=optimizer, loss=tf.keras.losses.BinaryCrossentropy(), metrics=[\"accuracy\"])"
   ]
  },
  {
   "cell_type": "code",
   "execution_count": 23,
   "id": "4668d606",
   "metadata": {},
   "outputs": [
    {
     "name": "stdout",
     "output_type": "stream",
     "text": [
      "2/2 [==============================] - 63s 12s/step - loss: 7.6246 - accuracy: 0.5000 - val_loss: 7.6246 - val_accuracy: 0.5000\n"
     ]
    },
    {
     "data": {
      "text/plain": [
       "<tensorflow.python.keras.callbacks.History at 0x7f532bea1790>"
      ]
     },
     "execution_count": 23,
     "metadata": {},
     "output_type": "execute_result"
    }
   ],
   "source": [
    "model.fit(x=train_ds, validation_data=valid_ds)"
   ]
  },
  {
   "cell_type": "code",
   "execution_count": null,
   "id": "0b967f61",
   "metadata": {},
   "outputs": [],
   "source": []
  }
 ],
 "metadata": {
  "environment": {
   "name": "common-cpu.m75",
   "type": "gcloud",
   "uri": "gcr.io/deeplearning-platform-release/base-cpu:m75"
  },
  "kernelspec": {
   "display_name": "Python [conda env:root] *",
   "language": "python",
   "name": "conda-root-py"
  },
  "language_info": {
   "codemirror_mode": {
    "name": "ipython",
    "version": 3
   },
   "file_extension": ".py",
   "mimetype": "text/x-python",
   "name": "python",
   "nbconvert_exporter": "python",
   "pygments_lexer": "ipython3",
   "version": "3.7.10"
  }
 },
 "nbformat": 4,
 "nbformat_minor": 5
}
