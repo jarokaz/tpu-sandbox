{
 "cells": [
  {
   "cell_type": "code",
   "execution_count": null,
   "metadata": {
    "cellView": "form",
    "id": "tuOe1ymfHZPu"
   },
   "outputs": [],
   "source": [
    "#@title Licensed under the Apache License, Version 2.0 (the \"License\");\n",
    "# you may not use this file except in compliance with the License.\n",
    "# You may obtain a copy of the License at\n",
    "#\n",
    "# https://www.apache.org/licenses/LICENSE-2.0\n",
    "#\n",
    "# Unless required by applicable law or agreed to in writing, software\n",
    "# distributed under the License is distributed on an \"AS IS\" BASIS,\n",
    "# WITHOUT WARRANTIES OR CONDITIONS OF ANY KIND, either express or implied.\n",
    "# See the License for the specific language governing permissions and\n",
    "# limitations under the License."
   ]
  },
  {
   "cell_type": "markdown",
   "metadata": {
    "id": "MfBg1C5NB3X0"
   },
   "source": [
    "# TPU node sandbox\n",
    "\n"
   ]
  },
  {
   "cell_type": "markdown",
   "metadata": {
    "id": "ek5Hop74NVKm"
   },
   "source": [
    "## Environment Setup"
   ]
  },
  {
   "cell_type": "code",
   "execution_count": 1,
   "metadata": {
    "id": "Cw0WRaChRxTL"
   },
   "outputs": [
    {
     "name": "stderr",
     "output_type": "stream",
     "text": [
      "2021-09-09 22:35:49.658220: W tensorflow/stream_executor/platform/default/dso_loader.cc:64] Could not load dynamic library 'libcudart.so.11.0'; dlerror: libcudart.so.11.0: cannot open shared object file: No such file or directory\n",
      "2021-09-09 22:35:49.658264: I tensorflow/stream_executor/cuda/cudart_stub.cc:29] Ignore above cudart dlerror if you do not have a GPU set up on your machine.\n"
     ]
    }
   ],
   "source": [
    "import tensorflow as tf\n",
    "\n",
    "import os\n",
    "import tensorflow_datasets as tfds\n",
    "\n",
    "from cloud_tpu_client import Client"
   ]
  },
  {
   "cell_type": "markdown",
   "metadata": {},
   "source": [
    "## Configure GCP settings"
   ]
  },
  {
   "cell_type": "code",
   "execution_count": 2,
   "metadata": {},
   "outputs": [
    {
     "name": "stdout",
     "output_type": "stream",
     "text": [
      "v3-8\n",
      "jk-tpu-node\n",
      "READY\n",
      "2.5.0\n"
     ]
    }
   ],
   "source": [
    "PROJECT = 'jk-mlops-dev'\n",
    "REGION = 'us-central1'\n",
    "TPU_NODE_NAME = 'jk-tpu-node'\n",
    "ZONE = 'us-central1-a'\n",
    "GCS_BUCKET = 'gs://jk-tpu-staging'\n",
    "\n",
    "c = Client(tpu=TPU_NODE_NAME, zone=ZONE)\n",
    "\n",
    "print(c.accelerator_type())\n",
    "print(c.name())\n",
    "print(c.state())\n",
    "print(c.runtime_version())"
   ]
  },
  {
   "cell_type": "code",
   "execution_count": 3,
   "metadata": {},
   "outputs": [
    {
     "name": "stderr",
     "output_type": "stream",
     "text": [
      "WARNING:root:TPU \"jk-tpu-node\" is healthy.\n"
     ]
    }
   ],
   "source": [
    "c.configure_tpu_version(tf.__version__, restart_type='ifNeeded')\n",
    "c.wait_for_healthy()"
   ]
  },
  {
   "cell_type": "markdown",
   "metadata": {
    "id": "dCqWMqvtwOLs"
   },
   "source": [
    "Note: The TPU initialization code has to be at the beginning of your program."
   ]
  },
  {
   "cell_type": "code",
   "execution_count": 4,
   "metadata": {
    "id": "dKPqF8d1wJCV"
   },
   "outputs": [
    {
     "name": "stderr",
     "output_type": "stream",
     "text": [
      "2021-09-09 22:36:07.752730: W tensorflow/stream_executor/platform/default/dso_loader.cc:64] Could not load dynamic library 'libcuda.so.1'; dlerror: libcuda.so.1: cannot open shared object file: No such file or directory\n",
      "2021-09-09 22:36:07.752782: W tensorflow/stream_executor/cuda/cuda_driver.cc:326] failed call to cuInit: UNKNOWN ERROR (303)\n",
      "2021-09-09 22:36:07.752808: I tensorflow/stream_executor/cuda/cuda_diagnostics.cc:156] kernel driver does not appear to be running on this host (jk-tpu-node-1): /proc/driver/nvidia/version does not exist\n"
     ]
    },
    {
     "name": "stdout",
     "output_type": "stream",
     "text": [
      "INFO:tensorflow:Initializing the TPU system: jk-tpu-node\n"
     ]
    },
    {
     "name": "stderr",
     "output_type": "stream",
     "text": [
      "2021-09-09 22:36:08.014416: I tensorflow/core/platform/cpu_feature_guard.cc:142] This TensorFlow binary is optimized with oneAPI Deep Neural Network Library (oneDNN) to use the following CPU instructions in performance-critical operations:  AVX2 FMA\n",
      "To enable them in other operations, rebuild TensorFlow with the appropriate compiler flags.\n",
      "INFO:tensorflow:Initializing the TPU system: jk-tpu-node\n",
      "2021-09-09 22:36:08.242025: I tensorflow/core/distributed_runtime/rpc/grpc_channel.cc:301] Initialize GrpcChannelCache for job worker -> {0 -> 10.122.28.50:8470}\n",
      "2021-09-09 22:36:08.242070: I tensorflow/core/distributed_runtime/rpc/grpc_channel.cc:301] Initialize GrpcChannelCache for job localhost -> {0 -> localhost:38665}\n",
      "2021-09-09 22:36:08.360971: I tensorflow/core/distributed_runtime/rpc/grpc_channel.cc:301] Initialize GrpcChannelCache for job worker -> {0 -> 10.122.28.50:8470}\n",
      "2021-09-09 22:36:08.361019: I tensorflow/core/distributed_runtime/rpc/grpc_channel.cc:301] Initialize GrpcChannelCache for job localhost -> {0 -> localhost:38665}\n",
      "2021-09-09 22:36:08.362671: I tensorflow/core/distributed_runtime/rpc/grpc_server_lib.cc:411] Started server with target: grpc://localhost:38665\n"
     ]
    },
    {
     "name": "stdout",
     "output_type": "stream",
     "text": [
      "INFO:tensorflow:Clearing out eager caches\n"
     ]
    },
    {
     "name": "stderr",
     "output_type": "stream",
     "text": [
      "INFO:tensorflow:Clearing out eager caches\n"
     ]
    },
    {
     "name": "stdout",
     "output_type": "stream",
     "text": [
      "INFO:tensorflow:Finished initializing TPU system.\n"
     ]
    },
    {
     "name": "stderr",
     "output_type": "stream",
     "text": [
      "INFO:tensorflow:Finished initializing TPU system.\n"
     ]
    },
    {
     "name": "stdout",
     "output_type": "stream",
     "text": [
      "All devices:  [LogicalDevice(name='/job:worker/replica:0/task:0/device:TPU:7', device_type='TPU'), LogicalDevice(name='/job:worker/replica:0/task:0/device:TPU:6', device_type='TPU'), LogicalDevice(name='/job:worker/replica:0/task:0/device:TPU:5', device_type='TPU'), LogicalDevice(name='/job:worker/replica:0/task:0/device:TPU:4', device_type='TPU'), LogicalDevice(name='/job:worker/replica:0/task:0/device:TPU:3', device_type='TPU'), LogicalDevice(name='/job:worker/replica:0/task:0/device:TPU:0', device_type='TPU'), LogicalDevice(name='/job:worker/replica:0/task:0/device:TPU:1', device_type='TPU'), LogicalDevice(name='/job:worker/replica:0/task:0/device:TPU:2', device_type='TPU')]\n"
     ]
    }
   ],
   "source": [
    "resolver = tf.distribute.cluster_resolver.TPUClusterResolver(tpu=TPU_NODE_NAME)\n",
    "tf.config.experimental_connect_to_cluster(resolver)\n",
    "# This is the TPU initialization code that has to be at the beginning.\n",
    "tf.tpu.experimental.initialize_tpu_system(resolver)\n",
    "print(\"All devices: \", tf.config.list_logical_devices('TPU'))"
   ]
  },
  {
   "cell_type": "markdown",
   "metadata": {
    "id": "Mv7kehTZ1Lq_"
   },
   "source": [
    "## Manual device placement\n",
    "\n",
    "After the TPU is initialized, you can use manual device placement to place the computation on a single TPU device:\n"
   ]
  },
  {
   "cell_type": "code",
   "execution_count": 5,
   "metadata": {
    "id": "XRZ4kMoxBNND"
   },
   "outputs": [
    {
     "name": "stdout",
     "output_type": "stream",
     "text": [
      "c device:  /job:worker/replica:0/task:0/device:TPU:0\n",
      "tf.Tensor(\n",
      "[[22. 28.]\n",
      " [49. 64.]], shape=(2, 2), dtype=float32)\n"
     ]
    }
   ],
   "source": [
    "a = tf.constant([[1.0, 2.0, 3.0], [4.0, 5.0, 6.0]])\n",
    "b = tf.constant([[1.0, 2.0], [3.0, 4.0], [5.0, 6.0]])\n",
    "\n",
    "with tf.device('/TPU:0'):\n",
    "  c = tf.matmul(a, b)\n",
    "\n",
    "print(\"c device: \", c.device)\n",
    "print(c)"
   ]
  },
  {
   "cell_type": "markdown",
   "metadata": {
    "id": "_NJm-kgFO0cC"
   },
   "source": [
    "## Distribution strategies\n",
    "\n",
    "Usually you run your model on multiple TPUs in a data-parallel way. To distribute your model on multiple TPUs (or other accelerators), TensorFlow offers several distribution strategies. You can replace your distribution strategy and the model will run on any given (TPU) device. Check the [distribution strategy guide](./distributed_training.ipynb) for more information."
   ]
  },
  {
   "cell_type": "markdown",
   "metadata": {
    "id": "DcDPMZs-9uLJ"
   },
   "source": [
    "To demonstrate this, create a `tf.distribute.TPUStrategy` object:"
   ]
  },
  {
   "cell_type": "code",
   "execution_count": 6,
   "metadata": {
    "id": "7SO23K8oRpjI"
   },
   "outputs": [
    {
     "name": "stdout",
     "output_type": "stream",
     "text": [
      "INFO:tensorflow:Found TPU system:\n"
     ]
    },
    {
     "name": "stderr",
     "output_type": "stream",
     "text": [
      "INFO:tensorflow:Found TPU system:\n"
     ]
    },
    {
     "name": "stdout",
     "output_type": "stream",
     "text": [
      "INFO:tensorflow:*** Num TPU Cores: 8\n"
     ]
    },
    {
     "name": "stderr",
     "output_type": "stream",
     "text": [
      "INFO:tensorflow:*** Num TPU Cores: 8\n"
     ]
    },
    {
     "name": "stdout",
     "output_type": "stream",
     "text": [
      "INFO:tensorflow:*** Num TPU Workers: 1\n"
     ]
    },
    {
     "name": "stderr",
     "output_type": "stream",
     "text": [
      "INFO:tensorflow:*** Num TPU Workers: 1\n"
     ]
    },
    {
     "name": "stdout",
     "output_type": "stream",
     "text": [
      "INFO:tensorflow:*** Num TPU Cores Per Worker: 8\n"
     ]
    },
    {
     "name": "stderr",
     "output_type": "stream",
     "text": [
      "INFO:tensorflow:*** Num TPU Cores Per Worker: 8\n"
     ]
    },
    {
     "name": "stdout",
     "output_type": "stream",
     "text": [
      "INFO:tensorflow:*** Available Device: _DeviceAttributes(/job:localhost/replica:0/task:0/device:CPU:0, CPU, 0, 0)\n"
     ]
    },
    {
     "name": "stderr",
     "output_type": "stream",
     "text": [
      "INFO:tensorflow:*** Available Device: _DeviceAttributes(/job:localhost/replica:0/task:0/device:CPU:0, CPU, 0, 0)\n"
     ]
    },
    {
     "name": "stdout",
     "output_type": "stream",
     "text": [
      "INFO:tensorflow:*** Available Device: _DeviceAttributes(/job:worker/replica:0/task:0/device:CPU:0, CPU, 0, 0)\n"
     ]
    },
    {
     "name": "stderr",
     "output_type": "stream",
     "text": [
      "INFO:tensorflow:*** Available Device: _DeviceAttributes(/job:worker/replica:0/task:0/device:CPU:0, CPU, 0, 0)\n"
     ]
    },
    {
     "name": "stdout",
     "output_type": "stream",
     "text": [
      "INFO:tensorflow:*** Available Device: _DeviceAttributes(/job:worker/replica:0/task:0/device:TPU:0, TPU, 0, 0)\n"
     ]
    },
    {
     "name": "stderr",
     "output_type": "stream",
     "text": [
      "INFO:tensorflow:*** Available Device: _DeviceAttributes(/job:worker/replica:0/task:0/device:TPU:0, TPU, 0, 0)\n"
     ]
    },
    {
     "name": "stdout",
     "output_type": "stream",
     "text": [
      "INFO:tensorflow:*** Available Device: _DeviceAttributes(/job:worker/replica:0/task:0/device:TPU:1, TPU, 0, 0)\n"
     ]
    },
    {
     "name": "stderr",
     "output_type": "stream",
     "text": [
      "INFO:tensorflow:*** Available Device: _DeviceAttributes(/job:worker/replica:0/task:0/device:TPU:1, TPU, 0, 0)\n"
     ]
    },
    {
     "name": "stdout",
     "output_type": "stream",
     "text": [
      "INFO:tensorflow:*** Available Device: _DeviceAttributes(/job:worker/replica:0/task:0/device:TPU:2, TPU, 0, 0)\n"
     ]
    },
    {
     "name": "stderr",
     "output_type": "stream",
     "text": [
      "INFO:tensorflow:*** Available Device: _DeviceAttributes(/job:worker/replica:0/task:0/device:TPU:2, TPU, 0, 0)\n"
     ]
    },
    {
     "name": "stdout",
     "output_type": "stream",
     "text": [
      "INFO:tensorflow:*** Available Device: _DeviceAttributes(/job:worker/replica:0/task:0/device:TPU:3, TPU, 0, 0)\n"
     ]
    },
    {
     "name": "stderr",
     "output_type": "stream",
     "text": [
      "INFO:tensorflow:*** Available Device: _DeviceAttributes(/job:worker/replica:0/task:0/device:TPU:3, TPU, 0, 0)\n"
     ]
    },
    {
     "name": "stdout",
     "output_type": "stream",
     "text": [
      "INFO:tensorflow:*** Available Device: _DeviceAttributes(/job:worker/replica:0/task:0/device:TPU:4, TPU, 0, 0)\n"
     ]
    },
    {
     "name": "stderr",
     "output_type": "stream",
     "text": [
      "INFO:tensorflow:*** Available Device: _DeviceAttributes(/job:worker/replica:0/task:0/device:TPU:4, TPU, 0, 0)\n"
     ]
    },
    {
     "name": "stdout",
     "output_type": "stream",
     "text": [
      "INFO:tensorflow:*** Available Device: _DeviceAttributes(/job:worker/replica:0/task:0/device:TPU:5, TPU, 0, 0)\n"
     ]
    },
    {
     "name": "stderr",
     "output_type": "stream",
     "text": [
      "INFO:tensorflow:*** Available Device: _DeviceAttributes(/job:worker/replica:0/task:0/device:TPU:5, TPU, 0, 0)\n"
     ]
    },
    {
     "name": "stdout",
     "output_type": "stream",
     "text": [
      "INFO:tensorflow:*** Available Device: _DeviceAttributes(/job:worker/replica:0/task:0/device:TPU:6, TPU, 0, 0)\n"
     ]
    },
    {
     "name": "stderr",
     "output_type": "stream",
     "text": [
      "INFO:tensorflow:*** Available Device: _DeviceAttributes(/job:worker/replica:0/task:0/device:TPU:6, TPU, 0, 0)\n"
     ]
    },
    {
     "name": "stdout",
     "output_type": "stream",
     "text": [
      "INFO:tensorflow:*** Available Device: _DeviceAttributes(/job:worker/replica:0/task:0/device:TPU:7, TPU, 0, 0)\n"
     ]
    },
    {
     "name": "stderr",
     "output_type": "stream",
     "text": [
      "INFO:tensorflow:*** Available Device: _DeviceAttributes(/job:worker/replica:0/task:0/device:TPU:7, TPU, 0, 0)\n"
     ]
    },
    {
     "name": "stdout",
     "output_type": "stream",
     "text": [
      "INFO:tensorflow:*** Available Device: _DeviceAttributes(/job:worker/replica:0/task:0/device:TPU_SYSTEM:0, TPU_SYSTEM, 0, 0)\n"
     ]
    },
    {
     "name": "stderr",
     "output_type": "stream",
     "text": [
      "INFO:tensorflow:*** Available Device: _DeviceAttributes(/job:worker/replica:0/task:0/device:TPU_SYSTEM:0, TPU_SYSTEM, 0, 0)\n"
     ]
    },
    {
     "name": "stdout",
     "output_type": "stream",
     "text": [
      "INFO:tensorflow:*** Available Device: _DeviceAttributes(/job:worker/replica:0/task:0/device:XLA_CPU:0, XLA_CPU, 0, 0)\n"
     ]
    },
    {
     "name": "stderr",
     "output_type": "stream",
     "text": [
      "INFO:tensorflow:*** Available Device: _DeviceAttributes(/job:worker/replica:0/task:0/device:XLA_CPU:0, XLA_CPU, 0, 0)\n"
     ]
    }
   ],
   "source": [
    "strategy = tf.distribute.TPUStrategy(resolver)\n",
    "#strategy = tf.distribute.get_strategy()"
   ]
  },
  {
   "cell_type": "markdown",
   "metadata": {
    "id": "JlaAmswWPsU6"
   },
   "source": [
    "To replicate a computation so it can run in all TPU cores, you can pass it into the `strategy.run` API. Below is an example that shows all cores receiving the same inputs `(a, b)` and performing matrix multiplication on each core independently. The outputs will be the values from all the replicas."
   ]
  },
  {
   "cell_type": "code",
   "execution_count": 7,
   "metadata": {
    "id": "-90CL5uFPTOa"
   },
   "outputs": [
    {
     "name": "stdout",
     "output_type": "stream",
     "text": [
      "PerReplica:{\n",
      "  0: tf.Tensor(\n",
      "[[22. 28.]\n",
      " [49. 64.]], shape=(2, 2), dtype=float32),\n",
      "  1: tf.Tensor(\n",
      "[[22. 28.]\n",
      " [49. 64.]], shape=(2, 2), dtype=float32),\n",
      "  2: tf.Tensor(\n",
      "[[22. 28.]\n",
      " [49. 64.]], shape=(2, 2), dtype=float32),\n",
      "  3: tf.Tensor(\n",
      "[[22. 28.]\n",
      " [49. 64.]], shape=(2, 2), dtype=float32),\n",
      "  4: tf.Tensor(\n",
      "[[22. 28.]\n",
      " [49. 64.]], shape=(2, 2), dtype=float32),\n",
      "  5: tf.Tensor(\n",
      "[[22. 28.]\n",
      " [49. 64.]], shape=(2, 2), dtype=float32),\n",
      "  6: tf.Tensor(\n",
      "[[22. 28.]\n",
      " [49. 64.]], shape=(2, 2), dtype=float32),\n",
      "  7: tf.Tensor(\n",
      "[[22. 28.]\n",
      " [49. 64.]], shape=(2, 2), dtype=float32)\n",
      "}\n"
     ]
    }
   ],
   "source": [
    "@tf.function\n",
    "def matmul_fn(x, y):\n",
    "  z = tf.matmul(x, y)\n",
    "  return z\n",
    "\n",
    "z = strategy.run(matmul_fn, args=(a, b))\n",
    "print(z)"
   ]
  },
  {
   "cell_type": "markdown",
   "metadata": {
    "id": "uxgYl6kGHJLc"
   },
   "source": [
    "## Classification on TPUs\n",
    "\n",
    "Having covered the basic concepts, consider a more concrete example. This section demonstrates how to use the distribution strategy—`tf.distribute.TPUStrategy`—to train a Keras model on a Cloud TPU.\n"
   ]
  },
  {
   "cell_type": "markdown",
   "metadata": {
    "id": "gKRALGgt_kCo"
   },
   "source": [
    "### Define a Keras model\n",
    "\n",
    "Start with a definition of a `Sequential` Keras model for image classification on the MNIST dataset using Keras. It's no different than what you would use if you were training on CPUs or GPUs. Note that Keras model creation needs to be inside `strategy.scope`, so the variables can be created on each TPU device. Other parts of the code are not necessary to be inside the strategy scope."
   ]
  },
  {
   "cell_type": "code",
   "execution_count": 8,
   "metadata": {
    "id": "DiBiN-Z_R7P7"
   },
   "outputs": [],
   "source": [
    "def create_model():\n",
    "  return tf.keras.Sequential(\n",
    "      [tf.keras.layers.Conv2D(256, 3, activation='relu', input_shape=(28, 28, 1)),\n",
    "       tf.keras.layers.Conv2D(256, 3, activation='relu'),\n",
    "       tf.keras.layers.Flatten(),\n",
    "       tf.keras.layers.Dense(256, activation='relu'),\n",
    "       tf.keras.layers.Dense(128, activation='relu'),\n",
    "       tf.keras.layers.Dense(10)])"
   ]
  },
  {
   "cell_type": "markdown",
   "metadata": {
    "id": "qYOYjYTg_31l"
   },
   "source": [
    "### Load the dataset\n",
    "\n",
    "Efficient use of the `tf.data.Dataset` API is critical when using a Cloud TPU, as it is impossible to use the Cloud TPUs unless you can feed them data quickly enough. You can learn more about dataset performance in the [Input pipeline performance guide](./data_performance.ipynb).\n",
    "\n",
    "For all but the simplest experiments (using `tf.data.Dataset.from_tensor_slices` or other in-graph data), you need to store all data files read by the Dataset in Google Cloud Storage (GCS) buckets.\n",
    "\n",
    "For most use cases, it is recommended to convert your data into the `TFRecord` format and use a `tf.data.TFRecordDataset` to read it. Check the [TFRecord and tf.Example tutorial](../tutorials/load_data/tfrecord.ipynb) for details on how to do this. It is not a hard requirement and you can use other dataset readers, such as `tf.data.FixedLengthRecordDataset` or `tf.data.TextLineDataset`.\n",
    "\n",
    "You can load entire small datasets into memory using `tf.data.Dataset.cache`.\n",
    "\n",
    "Regardless of the data format used, it is strongly recommended that you use large files on the order of 100MB. This is especially important in this networked setting, as the overhead of opening a file is significantly higher.\n",
    "\n",
    "As shown in the code below, you should use the `tensorflow_datasets` module to get a copy of the MNIST training and test data. Note that `try_gcs` is specified to use a copy that is available in a public GCS bucket. If you don't specify this, the TPU will not be able to access the downloaded data. "
   ]
  },
  {
   "cell_type": "code",
   "execution_count": 9,
   "metadata": {
    "id": "noAd416KSCo7"
   },
   "outputs": [],
   "source": [
    "def get_dataset(batch_size, is_training=True):\n",
    "  split = 'train' if is_training else 'test'\n",
    "  dataset, info = tfds.load(name='mnist', split=split, with_info=True,\n",
    "                            as_supervised=True, try_gcs=True)\n",
    "\n",
    "  # Normalize the input data.\n",
    "  def scale(image, label):\n",
    "    image = tf.cast(image, tf.float32)\n",
    "    image /= 255.0\n",
    "    return image, label\n",
    "\n",
    "  dataset = dataset.map(scale)\n",
    "\n",
    "  # Only shuffle and repeat the dataset in training. The advantage of having an\n",
    "  # infinite dataset for training is to avoid the potential last partial batch\n",
    "  # in each epoch, so that you don't need to think about scaling the gradients\n",
    "  # based on the actual batch size.\n",
    "  if is_training:\n",
    "    dataset = dataset.shuffle(10000)\n",
    "    dataset = dataset.repeat()\n",
    "\n",
    "  dataset = dataset.batch(batch_size)\n",
    "\n",
    "  return dataset"
   ]
  },
  {
   "cell_type": "markdown",
   "metadata": {
    "id": "mgUC6A-zCMEr"
   },
   "source": [
    "### Train the model using Keras high-level APIs\n",
    "\n",
    "You can train your model with Keras `fit` and `compile` APIs. There is nothing TPU-specific in this step—you write the code as if you were using mutliple GPUs and a `MirroredStrategy` instead of the `TPUStrategy`. You can learn more in the [Distributed training with Keras](https://www.tensorflow.org/tutorials/distribute/keras) tutorial."
   ]
  },
  {
   "cell_type": "code",
   "execution_count": 10,
   "metadata": {
    "id": "ubmDchPqSIx0"
   },
   "outputs": [
    {
     "name": "stdout",
     "output_type": "stream",
     "text": [
      "Epoch 1/5\n",
      "300/300 [==============================] - 18s 33ms/step - loss: 0.1442 - sparse_categorical_accuracy: 0.9578 - val_loss: 0.0408 - val_sparse_categorical_accuracy: 0.9864\n",
      "Epoch 2/5\n",
      "300/300 [==============================] - 7s 22ms/step - loss: 0.0347 - sparse_categorical_accuracy: 0.9891 - val_loss: 0.0587 - val_sparse_categorical_accuracy: 0.9820\n",
      "Epoch 3/5\n",
      "300/300 [==============================] - 7s 22ms/step - loss: 0.0188 - sparse_categorical_accuracy: 0.9936 - val_loss: 0.0462 - val_sparse_categorical_accuracy: 0.9863\n",
      "Epoch 4/5\n",
      "300/300 [==============================] - 7s 22ms/step - loss: 0.0125 - sparse_categorical_accuracy: 0.9960 - val_loss: 0.0462 - val_sparse_categorical_accuracy: 0.9874\n",
      "Epoch 5/5\n",
      "300/300 [==============================] - 7s 23ms/step - loss: 0.0096 - sparse_categorical_accuracy: 0.9970 - val_loss: 0.0437 - val_sparse_categorical_accuracy: 0.9898\n"
     ]
    },
    {
     "data": {
      "text/plain": [
       "<tensorflow.python.keras.callbacks.History at 0x7fa5e4388c10>"
      ]
     },
     "execution_count": 10,
     "metadata": {},
     "output_type": "execute_result"
    }
   ],
   "source": [
    "with strategy.scope():\n",
    "  model = create_model()\n",
    "  model.compile(optimizer='adam',\n",
    "                loss=tf.keras.losses.SparseCategoricalCrossentropy(from_logits=True),\n",
    "                metrics=['sparse_categorical_accuracy'])\n",
    "\n",
    "batch_size = 200\n",
    "steps_per_epoch = 60000 // batch_size\n",
    "validation_steps = 10000 // batch_size\n",
    "\n",
    "train_dataset = get_dataset(batch_size, is_training=True)\n",
    "test_dataset = get_dataset(batch_size, is_training=False)\n",
    "\n",
    "model.fit(train_dataset,\n",
    "          epochs=5,\n",
    "          steps_per_epoch=steps_per_epoch,\n",
    "          validation_data=test_dataset, \n",
    "          validation_steps=validation_steps)"
   ]
  },
  {
   "cell_type": "code",
   "execution_count": 11,
   "metadata": {
    "id": "noAd416KSCo7"
   },
   "outputs": [],
   "source": [
    "def get_dataset(batch_size, is_training=True):\n",
    "  split = 'train' if is_training else 'test'\n",
    "  dataset, info = tfds.load(name='mnist', split=split, with_info=True,\n",
    "                            as_supervised=True, try_gcs=True)\n",
    "\n",
    "  # Normalize the input data.\n",
    "  def scale(image, label):\n",
    "    image = tf.cast(image, tf.float32)\n",
    "    image /= 255.0\n",
    "    return image, label\n",
    "\n",
    "  dataset = dataset.map(scale)\n",
    "\n",
    "  # Only shuffle and repeat the dataset in training. The advantage of having an\n",
    "  # infinite dataset for training is to avoid the potential last partial batch\n",
    "  # in each epoch, so that you don't need to think about scaling the gradients\n",
    "  # based on the actual batch size.\n",
    "  if is_training:\n",
    "    dataset = dataset.shuffle(10000)\n",
    "    dataset = dataset.repeat()\n",
    "\n",
    "  dataset = dataset.batch(batch_size)\n",
    "\n",
    "  return dataset"
   ]
  },
  {
   "cell_type": "code",
   "execution_count": 12,
   "metadata": {},
   "outputs": [],
   "source": [
    "batch_size = 1\n",
    "train_dataset = get_dataset(batch_size, is_training=True)\n",
    "test_dataset = get_dataset(batch_size, is_training=False)"
   ]
  },
  {
   "cell_type": "code",
   "execution_count": 13,
   "metadata": {},
   "outputs": [],
   "source": [
    "inputs = []\n",
    "labels = []\n",
    "for x, y in train_dataset.take(1024):\n",
    "    inputs.append(x)\n",
    "    labels.append(y)"
   ]
  },
  {
   "cell_type": "code",
   "execution_count": 14,
   "metadata": {},
   "outputs": [
    {
     "name": "stderr",
     "output_type": "stream",
     "text": [
      "2021-09-09 22:38:01.478829: W ./tensorflow/core/distributed_runtime/eager/destroy_tensor_handle_node.h:57] Ignoring an error encountered when deleting remote tensors handles: Invalid argument: Unable to find the relevant tensor remote_handle: Op ID: 9851, Output num: 0\n",
      "Additional GRPC error information from remote target /job:worker/replica:0/task:0:\n",
      ":{\"created\":\"@1631227081.475440435\",\"description\":\"Error received from peer ipv4:10.122.28.50:8470\",\"file\":\"external/com_github_grpc_grpc/src/core/lib/surface/call.cc\",\"file_line\":1056,\"grpc_message\":\"Unable to find the relevant tensor remote_handle: Op ID: 9851, Output num: 0\",\"grpc_status\":3}\n"
     ]
    }
   ],
   "source": [
    "x = tf.concat(inputs, axis=0)\n",
    "y = tf.concat(labels, axis=0)"
   ]
  },
  {
   "cell_type": "code",
   "execution_count": null,
   "metadata": {},
   "outputs": [],
   "source": []
  },
  {
   "cell_type": "code",
   "execution_count": 15,
   "metadata": {
    "id": "ubmDchPqSIx0"
   },
   "outputs": [
    {
     "name": "stdout",
     "output_type": "stream",
     "text": [
      "Epoch 1/2\n",
      "32/32 [==============================] - 6s 16ms/step - loss: 0.8906 - sparse_categorical_accuracy: 0.7383\n",
      "Epoch 2/2\n",
      "32/32 [==============================] - 1s 16ms/step - loss: 0.1759 - sparse_categorical_accuracy: 0.9443\n"
     ]
    },
    {
     "data": {
      "text/plain": [
       "<tensorflow.python.keras.callbacks.History at 0x7fa5e441ce90>"
      ]
     },
     "execution_count": 15,
     "metadata": {},
     "output_type": "execute_result"
    }
   ],
   "source": [
    "with strategy.scope():\n",
    "  model = create_model()\n",
    "  model.compile(optimizer='adam',\n",
    "                loss=tf.keras.losses.SparseCategoricalCrossentropy(from_logits=True),\n",
    "                metrics=['sparse_categorical_accuracy'])\n",
    "    \n",
    "dataset = tf.data.Dataset.from_tensor_slices((x,y)).batch(32)\n",
    "\n",
    "model.fit(#dataset,\n",
    "          x=x,\n",
    "          y=y,\n",
    "          epochs=2,\n",
    "          #steps_per_epoch=steps_per_epoch,\n",
    "          #validation_data=test_dataset, \n",
    "          #validation_steps=validation_steps\n",
    "         )"
   ]
  },
  {
   "cell_type": "markdown",
   "metadata": {
    "id": "8hSGBIYtUugJ"
   },
   "source": [
    "To reduce Python overhead and maximize the performance of your TPU, pass in the argument—`steps_per_execution`—to `Model.compile`. In this example, it increases throughput by about 50%:"
   ]
  },
  {
   "cell_type": "code",
   "execution_count": null,
   "metadata": {
    "id": "M6e3aVVLUorL"
   },
   "outputs": [],
   "source": [
    "with strategy.scope():\n",
    "  model = create_model()\n",
    "  model.compile(optimizer='adam',\n",
    "                # Anything between 2 and `steps_per_epoch` could help here.\n",
    "                steps_per_execution = 50,\n",
    "                loss=tf.keras.losses.SparseCategoricalCrossentropy(from_logits=True),\n",
    "                metrics=['sparse_categorical_accuracy'])\n",
    "\n",
    "model.fit(train_dataset,\n",
    "          epochs=5,\n",
    "          steps_per_epoch=steps_per_epoch,\n",
    "          validation_data=test_dataset,\n",
    "          validation_steps=validation_steps)"
   ]
  },
  {
   "cell_type": "markdown",
   "metadata": {
    "id": "0rRALBZNCO4A"
   },
   "source": [
    "### Train the model using a custom training loop\n",
    "\n",
    "You can also create and train your model using `tf.function` and `tf.distribute` APIs directly. You can use the `strategy.experimental_distribute_datasets_from_function` API to distribute the dataset given a dataset function. Note that in the example below the batch size passed into the dataset is the per-replica batch size instead of the global batch size. To learn more, check out the [Custom training with tf.distribute.Strategy](https://www.tensorflow.org/tutorials/distribute/custom_training) tutorial.\n"
   ]
  },
  {
   "cell_type": "markdown",
   "metadata": {
    "id": "DxdgXPAL6iFE"
   },
   "source": [
    "First, create the model, datasets and tf.functions:"
   ]
  },
  {
   "cell_type": "code",
   "execution_count": null,
   "metadata": {
    "id": "9aHhqwao2Fxi"
   },
   "outputs": [],
   "source": [
    "# Create the model, optimizer and metrics inside the strategy scope, so that the\n",
    "# variables can be mirrored on each device.\n",
    "with strategy.scope():\n",
    "  model = create_model()\n",
    "  optimizer = tf.keras.optimizers.Adam()\n",
    "  training_loss = tf.keras.metrics.Mean('training_loss', dtype=tf.float32)\n",
    "  training_accuracy = tf.keras.metrics.SparseCategoricalAccuracy(\n",
    "      'training_accuracy', dtype=tf.float32)\n",
    "\n",
    "# Calculate per replica batch size, and distribute the datasets on each TPU\n",
    "# worker.\n",
    "per_replica_batch_size = batch_size // strategy.num_replicas_in_sync\n",
    "\n",
    "train_dataset = strategy.experimental_distribute_datasets_from_function(\n",
    "    lambda _: get_dataset(per_replica_batch_size, is_training=True))\n",
    "\n",
    "@tf.function\n",
    "def train_step(iterator):\n",
    "  \"\"\"The step function for one training step.\"\"\"\n",
    "\n",
    "  def step_fn(inputs):\n",
    "    \"\"\"The computation to run on each TPU device.\"\"\"\n",
    "    images, labels = inputs\n",
    "    with tf.GradientTape() as tape:\n",
    "      logits = model(images, training=True)\n",
    "      loss = tf.keras.losses.sparse_categorical_crossentropy(\n",
    "          labels, logits, from_logits=True)\n",
    "      loss = tf.nn.compute_average_loss(loss, global_batch_size=batch_size)\n",
    "    grads = tape.gradient(loss, model.trainable_variables)\n",
    "    optimizer.apply_gradients(list(zip(grads, model.trainable_variables)))\n",
    "    training_loss.update_state(loss * strategy.num_replicas_in_sync)\n",
    "    training_accuracy.update_state(labels, logits)\n",
    "\n",
    "  strategy.run(step_fn, args=(next(iterator),))"
   ]
  },
  {
   "cell_type": "markdown",
   "metadata": {
    "id": "Ibi7Z97V6xsQ"
   },
   "source": [
    "Then, run the training loop:"
   ]
  },
  {
   "cell_type": "code",
   "execution_count": null,
   "metadata": {
    "id": "1du5cXWt6Vtw"
   },
   "outputs": [],
   "source": [
    "steps_per_eval = 10000 // batch_size\n",
    "\n",
    "train_iterator = iter(train_dataset)\n",
    "for epoch in range(5):\n",
    "  print('Epoch: {}/5'.format(epoch))\n",
    "\n",
    "  for step in range(steps_per_epoch):\n",
    "    train_step(train_iterator)\n",
    "  print('Current step: {}, training loss: {}, accuracy: {}%'.format(\n",
    "      optimizer.iterations.numpy(),\n",
    "      round(float(training_loss.result()), 4),\n",
    "      round(float(training_accuracy.result()) * 100, 2)))\n",
    "  training_loss.reset_states()\n",
    "  training_accuracy.reset_states()"
   ]
  },
  {
   "cell_type": "markdown",
   "metadata": {
    "id": "TnZJUM3qIjKu"
   },
   "source": [
    "### Improving performance with multiple steps inside `tf.function`\n",
    "\n",
    "You can improve the performance by running multiple steps within a `tf.function`. This is achieved by wrapping the `strategy.run` call with a `tf.range` inside `tf.function`, and AutoGraph will convert it to a `tf.while_loop` on the TPU worker.\n",
    "\n",
    "Despite the improved performance, there are tradeoffs with this method compared to running a single step inside `tf.function`. Running multiple steps in a `tf.function` is less flexible—you cannot run things eagerly or arbitrary Python code within the steps.\n"
   ]
  },
  {
   "cell_type": "code",
   "execution_count": null,
   "metadata": {
    "id": "2grYvXLzJYkP"
   },
   "outputs": [],
   "source": [
    "@tf.function\n",
    "def train_multiple_steps(iterator, steps):\n",
    "  \"\"\"The step function for one training step.\"\"\"\n",
    "\n",
    "  def step_fn(inputs):\n",
    "    \"\"\"The computation to run on each TPU device.\"\"\"\n",
    "    images, labels = inputs\n",
    "    with tf.GradientTape() as tape:\n",
    "      logits = model(images, training=True)\n",
    "      loss = tf.keras.losses.sparse_categorical_crossentropy(\n",
    "          labels, logits, from_logits=True)\n",
    "      loss = tf.nn.compute_average_loss(loss, global_batch_size=batch_size)\n",
    "    grads = tape.gradient(loss, model.trainable_variables)\n",
    "    optimizer.apply_gradients(list(zip(grads, model.trainable_variables)))\n",
    "    training_loss.update_state(loss * strategy.num_replicas_in_sync)\n",
    "    training_accuracy.update_state(labels, logits)\n",
    "\n",
    "  for _ in tf.range(steps):\n",
    "    strategy.run(step_fn, args=(next(iterator),))\n",
    "\n",
    "# Convert `steps_per_epoch` to `tf.Tensor` so the `tf.function` won't get \n",
    "# retraced if the value changes.\n",
    "train_multiple_steps(train_iterator, tf.convert_to_tensor(steps_per_epoch))\n",
    "\n",
    "print('Current step: {}, training loss: {}, accuracy: {}%'.format(\n",
    "      optimizer.iterations.numpy(),\n",
    "      round(float(training_loss.result()), 4),\n",
    "      round(float(training_accuracy.result()) * 100, 2)))"
   ]
  },
  {
   "cell_type": "markdown",
   "metadata": {
    "id": "WBKVhMvWjibf"
   },
   "source": [
    "## Next steps\n",
    "\n",
    "- [Google Cloud TPU documentation](https://cloud.google.com/tpu/docs/): How to set up and run a Google Cloud TPU.\n",
    "- [Google Cloud TPU Colab notebooks](https://cloud.google.com/tpu/docs/colabs): End-to-end training examples.\n",
    "- [Google Cloud TPU performance guide](https://cloud.google.com/tpu/docs/performance-guide): Enhance Cloud TPU performance further by adjusting Cloud TPU configuration parameters for your application\n",
    "- [Distributed training with TensorFlow](./distributed_training.ipynb): How to use distribution strategies—including `tf.distribute.TPUStrategy`—with examples showing best practices."
   ]
  },
  {
   "cell_type": "code",
   "execution_count": null,
   "metadata": {},
   "outputs": [],
   "source": []
  }
 ],
 "metadata": {
  "accelerator": "TPU",
  "colab": {
   "collapsed_sections": [],
   "name": "tpu.ipynb",
   "toc_visible": true
  },
  "environment": {
   "name": "common-cpu.m75",
   "type": "gcloud",
   "uri": "gcr.io/deeplearning-platform-release/base-cpu:m75"
  },
  "kernelspec": {
   "display_name": "Python [conda env:root] *",
   "language": "python",
   "name": "conda-root-py"
  },
  "language_info": {
   "codemirror_mode": {
    "name": "ipython",
    "version": 3
   },
   "file_extension": ".py",
   "mimetype": "text/x-python",
   "name": "python",
   "nbconvert_exporter": "python",
   "pygments_lexer": "ipython3",
   "version": "3.7.10"
  }
 },
 "nbformat": 4,
 "nbformat_minor": 4
}
