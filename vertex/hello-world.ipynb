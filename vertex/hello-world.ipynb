{
 "cells": [
  {
   "cell_type": "markdown",
   "id": "d97be710-3917-4856-8a77-9262d877f9ad",
   "metadata": {},
   "source": [
    "# Using TPUs with Vertex AI Training - Hello World"
   ]
  },
  {
   "cell_type": "code",
   "execution_count": 1,
   "id": "abf4b434-3974-4917-9902-324f661f82a5",
   "metadata": {},
   "outputs": [],
   "source": [
    "import os\n",
    "import sys\n",
    "import shutil\n",
    "\n",
    "from pathlib import Path\n",
    "\n",
    "import tensorflow as tf\n",
    "\n",
    "from google.cloud import aiplatform"
   ]
  },
  {
   "cell_type": "code",
   "execution_count": 2,
   "id": "3898bc95-e6e8-4e5f-b3f6-48cd81ae0104",
   "metadata": {},
   "outputs": [
    {
     "name": "stdout",
     "output_type": "stream",
     "text": [
      "Collecting google-cloud-aiplatform\n",
      "  Downloading google_cloud_aiplatform-1.9.0-py2.py3-none-any.whl (1.7 MB)\n",
      "\u001b[K     |████████████████████████████████| 1.7 MB 5.0 MB/s eta 0:00:01\n",
      "\u001b[?25hRequirement already satisfied: google-api-core[grpc]<3.0.0dev,>=1.26.0 in /usr/local/lib/python3.8/dist-packages (from google-cloud-aiplatform) (1.28.0)\n",
      "Collecting google-cloud-storage<2.0.0dev,>=1.32.0\n",
      "  Downloading google_cloud_storage-1.44.0-py2.py3-none-any.whl (106 kB)\n",
      "\u001b[K     |████████████████████████████████| 106 kB 98.0 MB/s eta 0:00:01\n",
      "\u001b[?25hRequirement already satisfied: packaging>=14.3 in /usr/local/lib/python3.8/dist-packages (from google-cloud-aiplatform) (20.9)\n",
      "Collecting google-cloud-bigquery<3.0.0dev,>=1.15.0\n",
      "  Downloading google_cloud_bigquery-2.31.0-py2.py3-none-any.whl (205 kB)\n",
      "\u001b[K     |████████████████████████████████| 205 kB 109.1 MB/s eta 0:00:01\n",
      "\u001b[?25hCollecting proto-plus>=1.10.1\n",
      "  Downloading proto_plus-1.19.8-py3-none-any.whl (45 kB)\n",
      "\u001b[K     |████████████████████████████████| 45 kB 6.9 MB/s s eta 0:00:01\n",
      "\u001b[?25hRequirement already satisfied: requests<3.0.0dev,>=2.18.0 in /usr/local/lib/python3.8/dist-packages (from google-api-core[grpc]<3.0.0dev,>=1.26.0->google-cloud-aiplatform) (2.25.1)\n",
      "Requirement already satisfied: google-auth<2.0dev,>=1.25.0 in /usr/local/lib/python3.8/dist-packages (from google-api-core[grpc]<3.0.0dev,>=1.26.0->google-cloud-aiplatform) (1.30.1)\n",
      "Requirement already satisfied: googleapis-common-protos<2.0dev,>=1.6.0 in /usr/local/lib/python3.8/dist-packages (from google-api-core[grpc]<3.0.0dev,>=1.26.0->google-cloud-aiplatform) (1.53.0)\n",
      "Requirement already satisfied: six>=1.13.0 in /home/jarekk/.local/lib/python3.8/site-packages (from google-api-core[grpc]<3.0.0dev,>=1.26.0->google-cloud-aiplatform) (1.16.0)\n",
      "Requirement already satisfied: setuptools>=40.3.0 in /home/jarekk/.local/lib/python3.8/site-packages (from google-api-core[grpc]<3.0.0dev,>=1.26.0->google-cloud-aiplatform) (60.3.1)\n",
      "Requirement already satisfied: pytz in /usr/local/lib/python3.8/dist-packages (from google-api-core[grpc]<3.0.0dev,>=1.26.0->google-cloud-aiplatform) (2021.1)\n",
      "Requirement already satisfied: protobuf>=3.12.0 in /usr/local/lib/python3.8/dist-packages (from google-api-core[grpc]<3.0.0dev,>=1.26.0->google-cloud-aiplatform) (3.17.1)\n",
      "Requirement already satisfied: grpcio<2.0dev,>=1.29.0 in /usr/local/lib/python3.8/dist-packages (from google-api-core[grpc]<3.0.0dev,>=1.26.0->google-cloud-aiplatform) (1.38.0)\n",
      "Requirement already satisfied: cachetools<5.0,>=2.0.0 in /usr/local/lib/python3.8/dist-packages (from google-auth<2.0dev,>=1.25.0->google-api-core[grpc]<3.0.0dev,>=1.26.0->google-cloud-aiplatform) (4.2.2)\n",
      "Requirement already satisfied: pyasn1-modules>=0.2.1 in /usr/local/lib/python3.8/dist-packages (from google-auth<2.0dev,>=1.25.0->google-api-core[grpc]<3.0.0dev,>=1.26.0->google-cloud-aiplatform) (0.2.8)\n",
      "Requirement already satisfied: rsa<5,>=3.1.4 in /usr/local/lib/python3.8/dist-packages (from google-auth<2.0dev,>=1.25.0->google-api-core[grpc]<3.0.0dev,>=1.26.0->google-cloud-aiplatform) (4.7.2)\n",
      "Requirement already satisfied: python-dateutil<3.0dev,>=2.7.2 in /home/jarekk/.local/lib/python3.8/site-packages (from google-cloud-bigquery<3.0.0dev,>=1.15.0->google-cloud-aiplatform) (2.8.2)\n",
      "Collecting google-resumable-media<3.0dev,>=0.6.0\n",
      "  Downloading google_resumable_media-2.1.0-py2.py3-none-any.whl (75 kB)\n",
      "\u001b[K     |████████████████████████████████| 75 kB 7.9 MB/s s eta 0:00:01\n",
      "\u001b[?25hCollecting grpcio<2.0dev,>=1.29.0\n",
      "  Downloading grpcio-1.43.0-cp38-cp38-manylinux_2_17_x86_64.manylinux2014_x86_64.whl (4.1 MB)\n",
      "\u001b[K     |████████████████████████████████| 4.1 MB 102.8 MB/s eta 0:00:01\n",
      "\u001b[?25hCollecting google-cloud-core<3.0.0dev,>=1.4.1\n",
      "  Downloading google_cloud_core-2.2.1-py2.py3-none-any.whl (29 kB)\n",
      "Collecting google-cloud-bigquery<3.0.0dev,>=1.15.0\n",
      "  Downloading google_cloud_bigquery-2.30.1-py2.py3-none-any.whl (203 kB)\n",
      "\u001b[K     |████████████████████████████████| 203 kB 120.0 MB/s eta 0:00:01\n",
      "\u001b[?25h  Downloading google_cloud_bigquery-2.30.0-py2.py3-none-any.whl (203 kB)\n",
      "\u001b[K     |████████████████████████████████| 203 kB 111.9 MB/s eta 0:00:01\n",
      "\u001b[?25h  Downloading google_cloud_bigquery-2.29.0-py2.py3-none-any.whl (203 kB)\n",
      "\u001b[K     |████████████████████████████████| 203 kB 122.0 MB/s eta 0:00:01\n",
      "\u001b[?25h  Downloading google_cloud_bigquery-2.28.1-py2.py3-none-any.whl (202 kB)\n",
      "\u001b[K     |████████████████████████████████| 202 kB 109.8 MB/s eta 0:00:01\n",
      "\u001b[?25h  Downloading google_cloud_bigquery-2.28.0-py2.py3-none-any.whl (202 kB)\n",
      "\u001b[K     |████████████████████████████████| 202 kB 127.8 MB/s eta 0:00:01\n",
      "\u001b[?25h  Downloading google_cloud_bigquery-2.27.1-py2.py3-none-any.whl (201 kB)\n",
      "\u001b[K     |████████████████████████████████| 201 kB 108.1 MB/s eta 0:00:01\n",
      "\u001b[?25h  Downloading google_cloud_bigquery-2.27.0-py2.py3-none-any.whl (201 kB)\n",
      "\u001b[K     |████████████████████████████████| 201 kB 117.1 MB/s eta 0:00:01\n",
      "\u001b[?25h  Downloading google_cloud_bigquery-2.26.0-py2.py3-none-any.whl (201 kB)\n",
      "\u001b[K     |████████████████████████████████| 201 kB 31.2 MB/s eta 0:00:01\n",
      "\u001b[?25h  Downloading google_cloud_bigquery-2.25.2-py2.py3-none-any.whl (200 kB)\n",
      "\u001b[K     |████████████████████████████████| 200 kB 113.2 MB/s eta 0:00:01\n",
      "\u001b[?25h  Downloading google_cloud_bigquery-2.25.1-py2.py3-none-any.whl (200 kB)\n",
      "\u001b[K     |████████████████████████████████| 200 kB 106.2 MB/s eta 0:00:01\n",
      "\u001b[?25h  Downloading google_cloud_bigquery-2.25.0-py2.py3-none-any.whl (200 kB)\n",
      "\u001b[K     |████████████████████████████████| 200 kB 117.1 MB/s eta 0:00:01\n",
      "\u001b[?25h  Downloading google_cloud_bigquery-2.24.1-py2.py3-none-any.whl (198 kB)\n",
      "\u001b[K     |████████████████████████████████| 198 kB 116.2 MB/s eta 0:00:01\n",
      "\u001b[?25h  Downloading google_cloud_bigquery-2.24.0-py2.py3-none-any.whl (198 kB)\n",
      "\u001b[K     |████████████████████████████████| 198 kB 111.9 MB/s eta 0:00:01\n",
      "\u001b[?25h  Downloading google_cloud_bigquery-2.23.3-py2.py3-none-any.whl (196 kB)\n",
      "\u001b[K     |████████████████████████████████| 196 kB 117.3 MB/s eta 0:00:01\n",
      "\u001b[?25h  Downloading google_cloud_bigquery-2.23.2-py2.py3-none-any.whl (196 kB)\n",
      "\u001b[K     |████████████████████████████████| 196 kB 102.5 MB/s eta 0:00:01\n",
      "\u001b[?25h  Downloading google_cloud_bigquery-2.23.1-py2.py3-none-any.whl (196 kB)\n",
      "\u001b[K     |████████████████████████████████| 196 kB 117.5 MB/s eta 0:00:01\n",
      "\u001b[?25h  Downloading google_cloud_bigquery-2.23.0-py2.py3-none-any.whl (196 kB)\n",
      "\u001b[K     |████████████████████████████████| 196 kB 113.2 MB/s eta 0:00:01\n",
      "\u001b[?25h  Downloading google_cloud_bigquery-2.22.1-py2.py3-none-any.whl (195 kB)\n",
      "\u001b[K     |████████████████████████████████| 195 kB 110.0 MB/s eta 0:00:01\n",
      "\u001b[?25h  Downloading google_cloud_bigquery-2.22.0-py2.py3-none-any.whl (194 kB)\n",
      "\u001b[K     |████████████████████████████████| 194 kB 91.2 MB/s eta 0:00:01\n",
      "\u001b[?25h  Downloading google_cloud_bigquery-2.21.0-py2.py3-none-any.whl (193 kB)\n",
      "\u001b[K     |████████████████████████████████| 193 kB 105.0 MB/s eta 0:00:01\n",
      "\u001b[?25h  Downloading google_cloud_bigquery-2.20.0-py2.py3-none-any.whl (189 kB)\n",
      "\u001b[K     |████████████████████████████████| 189 kB 112.5 MB/s eta 0:00:01\n",
      "\u001b[?25h  Downloading google_cloud_bigquery-2.19.0-py2.py3-none-any.whl (188 kB)\n",
      "\u001b[K     |████████████████████████████████| 188 kB 109.4 MB/s eta 0:00:01\n",
      "\u001b[?25h  Downloading google_cloud_bigquery-2.18.0-py2.py3-none-any.whl (188 kB)\n",
      "\u001b[K     |████████████████████████████████| 188 kB 120.1 MB/s eta 0:00:01\n",
      "\u001b[?25hCollecting google-cloud-core<2.0dev,>=1.4.1\n",
      "  Downloading google_cloud_core-1.7.2-py2.py3-none-any.whl (28 kB)\n",
      "Collecting google-resumable-media<2.0dev,>=0.6.0\n",
      "  Downloading google_resumable_media-1.3.3-py2.py3-none-any.whl (75 kB)\n",
      "\u001b[K     |████████████████████████████████| 75 kB 8.5 MB/s s eta 0:00:01\n",
      "\u001b[?25hCollecting google-cloud-storage<2.0.0dev,>=1.32.0\n",
      "  Downloading google_cloud_storage-1.43.0-py2.py3-none-any.whl (106 kB)\n",
      "\u001b[K     |████████████████████████████████| 106 kB 113.3 MB/s eta 0:00:01\n",
      "\u001b[?25h  Downloading google_cloud_storage-1.42.3-py2.py3-none-any.whl (105 kB)\n",
      "\u001b[K     |████████████████████████████████| 105 kB 115.6 MB/s eta 0:00:01\n",
      "\u001b[?25h  Downloading google_cloud_storage-1.42.2-py2.py3-none-any.whl (105 kB)\n",
      "\u001b[K     |████████████████████████████████| 105 kB 103.9 MB/s eta 0:00:01\n",
      "\u001b[?25h  Downloading google_cloud_storage-1.42.1-py2.py3-none-any.whl (105 kB)\n",
      "\u001b[K     |████████████████████████████████| 105 kB 113.0 MB/s eta 0:00:01\n",
      "\u001b[?25h  Downloading google_cloud_storage-1.42.0-py2.py3-none-any.whl (105 kB)\n",
      "\u001b[K     |████████████████████████████████| 105 kB 119.2 MB/s eta 0:00:01\n",
      "\u001b[?25h  Downloading google_cloud_storage-1.41.1-py2.py3-none-any.whl (105 kB)\n",
      "\u001b[K     |████████████████████████████████| 105 kB 111.6 MB/s eta 0:00:01\n",
      "\u001b[?25hCollecting google-crc32c<2.0dev,>=1.0\n",
      "  Downloading google_crc32c-1.3.0-cp38-cp38-manylinux_2_12_x86_64.manylinux2010_x86_64.whl (37 kB)\n",
      "Requirement already satisfied: pyparsing>=2.0.2 in /usr/local/lib/python3.8/dist-packages (from packaging>=14.3->google-cloud-aiplatform) (2.4.7)\n",
      "Collecting protobuf>=3.12.0\n",
      "  Downloading protobuf-3.19.1-cp38-cp38-manylinux_2_17_x86_64.manylinux2014_x86_64.whl (1.1 MB)\n",
      "\u001b[K     |████████████████████████████████| 1.1 MB 100.5 MB/s eta 0:00:01\n",
      "\u001b[?25hRequirement already satisfied: pyasn1<0.5.0,>=0.4.6 in /usr/local/lib/python3.8/dist-packages (from pyasn1-modules>=0.2.1->google-auth<2.0dev,>=1.25.0->google-api-core[grpc]<3.0.0dev,>=1.26.0->google-cloud-aiplatform) (0.4.8)\n",
      "Requirement already satisfied: chardet<5,>=3.0.2 in /usr/local/lib/python3.8/dist-packages (from requests<3.0.0dev,>=2.18.0->google-api-core[grpc]<3.0.0dev,>=1.26.0->google-cloud-aiplatform) (4.0.0)\n",
      "Requirement already satisfied: idna<3,>=2.5 in /usr/local/lib/python3.8/dist-packages (from requests<3.0.0dev,>=2.18.0->google-api-core[grpc]<3.0.0dev,>=1.26.0->google-cloud-aiplatform) (2.10)\n",
      "Requirement already satisfied: certifi>=2017.4.17 in /usr/local/lib/python3.8/dist-packages (from requests<3.0.0dev,>=2.18.0->google-api-core[grpc]<3.0.0dev,>=1.26.0->google-cloud-aiplatform) (2020.12.5)\n",
      "Requirement already satisfied: urllib3<1.27,>=1.21.1 in /usr/local/lib/python3.8/dist-packages (from requests<3.0.0dev,>=2.18.0->google-api-core[grpc]<3.0.0dev,>=1.26.0->google-cloud-aiplatform) (1.26.4)\n",
      "Installing collected packages: protobuf, google-crc32c, proto-plus, google-resumable-media, google-cloud-core, google-cloud-storage, google-cloud-bigquery, google-cloud-aiplatform\n",
      "\u001b[33m  WARNING: The script tb-gcp-uploader is installed in '/home/jarekk/.local/bin' which is not on PATH.\n",
      "  Consider adding this directory to PATH or, if you prefer to suppress this warning, use --no-warn-script-location.\u001b[0m\n",
      "\u001b[31mERROR: pip's dependency resolver does not currently take into account all the packages that are installed. This behaviour is the source of the following dependency conflicts.\n",
      "tf-nightly 2.6.0 requires six~=1.15.0, but you have six 1.16.0 which is incompatible.\u001b[0m\n",
      "Successfully installed google-cloud-aiplatform-1.9.0 google-cloud-bigquery-2.18.0 google-cloud-core-1.7.2 google-cloud-storage-1.41.1 google-crc32c-1.3.0 google-resumable-media-1.3.3 proto-plus-1.19.8 protobuf-3.19.1\n",
      "\u001b[33mWARNING: You are using pip version 21.1.2; however, version 21.3.1 is available.\n",
      "You should consider upgrading via the '/usr/bin/python3 -m pip install --upgrade pip' command.\u001b[0m\n",
      "Note: you may need to restart the kernel to use updated packages.\n"
     ]
    }
   ],
   "source": [
    "%pip install -U --user google-cloud-aiplatform"
   ]
  },
  {
   "cell_type": "code",
   "execution_count": 2,
   "id": "c756e5c6-514a-4eef-8d94-99f32b5f5275",
   "metadata": {},
   "outputs": [
    {
     "name": "stdout",
     "output_type": "stream",
     "text": [
      "2.6.0\n",
      "1.9.0\n"
     ]
    }
   ],
   "source": [
    "print(tf.__version__)\n",
    "print(aiplatform.__version__)"
   ]
  },
  {
   "cell_type": "markdown",
   "id": "a4a18bf0-db55-4fd5-95da-d007abd33e2c",
   "metadata": {},
   "source": [
    "## Configure environment"
   ]
  },
  {
   "cell_type": "code",
   "execution_count": 3,
   "id": "462bb58a-454b-4341-ab86-283e705c54a2",
   "metadata": {},
   "outputs": [],
   "source": [
    "PROJECT = 'jk-mlops-dev'\n",
    "REGION = 'us-central1'\n",
    "STAGING_BUCKET = 'gs://jk-vertex-staging'\n",
    "VERTEX_SA = f'vertex-sa@{PROJECT}.iam.gserviceaccount.com'\n",
    "\n",
    "IMAGE_NAME = 'tpu-helloworld'\n",
    "IMAGE_URI = f'gcr.io/{PROJECT}/{IMAGE_NAME}'"
   ]
  },
  {
   "cell_type": "markdown",
   "id": "758d5c8e-89f5-4b24-8494-5ac3a073cb92",
   "metadata": {},
   "source": [
    "## Build a custom training container"
   ]
  },
  {
   "cell_type": "code",
   "execution_count": null,
   "id": "177e482e-2171-41eb-ad66-a1e700d3fd70",
   "metadata": {},
   "outputs": [],
   "source": [
    "TRAINER_FOLDER = 'trainer'\n",
    "\n",
    "path = Path(TRAINER_FOLDER)\n",
    "if path.exists():\n",
    "    shutil.rmtree(path)\n",
    "path.mkdir() "
   ]
  },
  {
   "cell_type": "code",
   "execution_count": null,
   "id": "57e072c0-0d0c-43a3-9f02-088cf60f4d64",
   "metadata": {},
   "outputs": [],
   "source": [
    "%%writefile Dockerfile\n",
    "\n",
    "FROM us-docker.pkg.dev/vertex-ai/training/tf-tpu.2-5:latest\n",
    "WORKDIR /\n",
    "\n",
    "RUN pip3 install tf-models-official==2.5.1 tensorflow-recommenders==0.6.0\n",
    "\n",
    "ENTRYPOINT [\"python3\"]\n",
    "CMD [\"-c\", \"import tensorflow_recommenders as tfrs; print(tfrs.__version__)\"]\n"
   ]
  },
  {
   "cell_type": "code",
   "execution_count": null,
   "id": "48a81804-e980-44fc-86d9-9cc1e62bb4c2",
   "metadata": {},
   "outputs": [],
   "source": [
    "path.exists()"
   ]
  },
  {
   "cell_type": "code",
   "execution_count": null,
   "id": "f6e852c6-ed03-4182-aa1e-de200bf02a35",
   "metadata": {},
   "outputs": [],
   "source": []
  }
 ],
 "metadata": {
  "environment": {
   "kernel": "python3",
   "name": "managed-notebooks.m87",
   "type": "gcloud",
   "uri": "gcr.io/deeplearning-platform-release/tf2-gpu:latest"
  },
  "interpreter": {
   "hash": "31f2aee4e71d21fbe5cf8b01ff0e069b9275f58929596ceb00d14d90e3e16cd6"
  },
  "kernelspec": {
   "display_name": "TensorFlow 2 (Local)",
   "language": "python",
   "name": "python3"
  },
  "language_info": {
   "codemirror_mode": {
    "name": "ipython",
    "version": 3
   },
   "file_extension": ".py",
   "mimetype": "text/x-python",
   "name": "python",
   "nbconvert_exporter": "python",
   "pygments_lexer": "ipython3",
   "version": "3.8.5"
  }
 },
 "nbformat": 4,
 "nbformat_minor": 5
}
